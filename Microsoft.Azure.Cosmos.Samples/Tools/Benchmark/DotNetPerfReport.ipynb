{
  "cells": [
    {
      "cell_type": "code",
      "execution_count": 34,
      "metadata": {
        "collapsed": true,
        "jupyter": {
          "outputs_hidden": false,
          "source_hidden": false
        },
        "nteract": {
          "transient": {
            "deleting": false
          }
        },
        "outputExpanded": false
      },
      "source": [
        "RcaNotes={}\n",
        "RcaNotes['c7ec380f50abcf86b04ee5d5b6896326b24fad38'] = 'Unrelated environment regresson'\n",
        "RcaNotes['ce4bf92e46c8c73b33ced85f446f7ac5daecd4f5'] = '[2500] [Jake] Headers optimization'\n",
        "RcaNotes['1ef6e399f114a0fd580272d4cdca86b9f8732cf3'] = 'Unrelated environment recovery from earlier regresson'\n",
        "RcaNotes['29e81b578c876b1686e532f5a63d229e2b48f327'] = '''3.13.1 Direct pacakge: '''\n",
        "RcaNotes['ed0c8f0ed7f084476321e54ffb7ec6be0b83b0b2'] = 'Unrelated environment gain'\n",
        "RcaNotes['6de15df3f5320eb648df754b2d9f02d9fd2e654b'] = '''[1420] 3.13.2 Direct package \n",
        " <br> [600] [Jake] TransportSerialization optimization\n",
        " <br> [400] [Jake] SessionTokenMismatchRetryPolicy optimization\n",
        " <br>      [Vinod] RntbdReqeustPooling\n",
        " <br>      [Vinod] RntbdResponsePooling\n",
        " <br>      [Vinod] RespinseSerializationAsync\n",
        "'''\n",
        "RcaNotes['5618b95c787e274b865ad6bccf14261bb0b880cb'] = '[389] [Jake] VectorSessionTokenOptimization'\n",
        "\n",
        "RcaNotes"
      ]
    },
    {
      "cell_type": "code",
      "execution_count": null,
      "metadata": {
        "collapsed": true,
        "jupyter": {
          "outputs_hidden": false,
          "source_hidden": false
        },
        "nteract": {
          "transient": {
            "deleting": false
          }
        },
        "outputExpanded": false,
        "trusted": true
      },
      "outputs": [],
      "source": [
        "%%sql --database testdb --container runsummary --output runlogs\n",
        "\n",
        "select \n",
        "    c.Commit AS Commit,\n",
        "    CONCAT(c.Date, \":\", c.Time) AS RunTime,\n",
        "\tc.Top10PercentAverageRps AS Top10AVGRps\n",
        "from c \n",
        "where c.Cores = 4 \n",
        "    and c.TotalOps >= 500000\n",
        "    and c.Top10PercentAverageRps > 1000\n",
        "    and CONCAT(c.Date, \":\", c.Time) > \"2020-08-00:20-15\"\n",
        "    and CONCAT(c.Date, \":\", c.Time) < \"2020-09-28:01-00\"\n",
        "    and c.BranchName = \"master\"\n",
        "    and c.WorkloadType = \"ReadStreamExistsV3\"\n"
      ]
    },
    {
      "cell_type": "code",
      "execution_count": null,
      "metadata": {
        "collapsed": true,
        "jupyter": {
          "outputs_hidden": false,
          "source_hidden": false
        },
        "nteract": {
          "transient": {
            "deleting": false
          }
        },
        "outputExpanded": false,
        "trusted": true
      },
      "outputs": [],
      "source": [
        "import plotly.express as px\n",
        "import plotly.graph_objects as go\n",
        "import pandas as pd\n",
        "import matplotlib.pylab as plt\n",
        "\n",
        "df=pd.DataFrame(runlogs.groupby('Commit', as_index=False).agg({'RunTime': ['min'], 'Top10AVGRps': ['mean']}))\n",
        "\n",
        "df.columns=df.columns.to_flat_index()\n",
        "df.sort_values(('RunTime', 'min'), inplace=True)\n",
        "\n",
        "df['RunTimeMin']=df[('RunTime', 'min')]\n",
        "df['Top10AVGRpsMean']=df[('Top10AVGRps', 'mean')]\n",
        "df['Commit']=df[('Commit', '')]\n",
        "\n",
        "commitNotes = {}\n",
        "for index, row in df.iterrows():\n",
        "    commitNotes[index] = ''\n",
        "    if row['Commit'] in RcaNotes:\n",
        "        commitNotes[index] = RcaNotes[row['Commit']]\n",
        "        \n",
        "df['RcaNotes']=pd.Series(commitNotes)\n",
        "df['Top10AVGRpsMeanDiff']=round(df['Top10AVGRpsMean'].copy().pct_change() * 100, 2)\n",
        "df.drop(columns=[('Top10AVGRps', 'mean'), ('RunTime', 'min'), ('Commit', '')], inplace=True)\n",
        "\n",
        "figVertical = go.Figure(go.Waterfall(\n",
        "    x = df['RunTimeMin'],\n",
        "    text = '<br> Commit:' + df['Commit'] +  '<br> Diff: ' + df['Top10AVGRpsMeanDiff'].astype(str) + ' <br><br> ' + df['RcaNotes'] + ' <br> ',\n",
        "    y = df['Top10AVGRpsMeanDiff'],\n",
        "    connector = {'line':{'color':'rgb(63, 63, 63)'}},\n",
        "))\n",
        "\n",
        "figVertical.update_layout(\n",
        "    title='ReadStreamExistsV3 Benchmark: Percentage of impact',\n",
        "    yaxis_title='Percentage',\n",
        "    xaxis_title='Ordered commit time-line',\n",
        "    #showlegend = True,\n",
        "    height = 700,\n",
        "    font=dict(\n",
        "        family='Courier New, monospace',\n",
        "        size=18,\n",
        "        color='RebeccaPurple'\n",
        "    )    \n",
        ")\n",
        "\n",
        "figVertical.show()\n",
        "\n",
        "figHorizontal = go.Figure(go.Waterfall(\n",
        "    orientation = 'h',\n",
        "    y = df['RunTimeMin'],\n",
        "    text = '<br> Commit:' + df['Commit'] +  '<br> Diff: ' + df['Top10AVGRpsMeanDiff'].astype(str) + ' <br><br> ' + df['RcaNotes'] + ' <br> ',\n",
        "    x = df['Top10AVGRpsMeanDiff'],\n",
        "    connector = {'line':{'color':'rgb(63, 63, 63)'}},\n",
        "))\n",
        "\n",
        "figHorizontal.update_layout(\n",
        "    title='ReadStreamExistsV3 Benchmark: Percentage of impact',\n",
        "    xaxis_title='Percentage',\n",
        "    yaxis_title='Ordered commit time-line',\n",
        "    #showlegend = True,\n",
        "    height = 700,\n",
        "    font=dict(\n",
        "        family='Courier New, monospace',\n",
        "        size=18,\n",
        "        color='RebeccaPurple'\n",
        "    )    \n",
        ")\n",
        "figHorizontal.show()"
      ]
    },
    {
      "cell_type": "code",
      "execution_count": null,
      "metadata": {
        "collapsed": true,
        "jupyter": {
          "outputs_hidden": false,
          "source_hidden": false
        },
        "nteract": {
          "transient": {
            "deleting": false
          }
        },
        "outputExpanded": false,
        "trusted": true
      },
      "outputs": [],
      "source": [
        "import plotly.express as px\n",
        "import pandas as pd\n",
        "import matplotlib.pylab as plt\n",
        "\n",
        "df=pd.DataFrame(runlogs.groupby(\"Commit\", as_index=False).agg({'RunTime': ['min'], 'Top10AVGRps': ['mean']}))\n",
        "\n",
        "df.columns=df.columns.to_flat_index()\n",
        "df.sort_values(('RunTime', 'min'), inplace=True)\n",
        "\n",
        "df[\"RunTimeMin\"]=df[('RunTime', 'min')]\n",
        "df[\"Top10AVGRpsMean\"]=df[('Top10AVGRps', 'mean')]\n",
        "df[\"Commit\"]=df[('Commit', '')]\n",
        "\n",
        "commitNotes = {}\n",
        "for index, row in df.iterrows():\n",
        "    commitNotes[index] = ''\n",
        "    if row['Commit'] in RcaNotes:\n",
        "        commitNotes[index] = RcaNotes[row['Commit']]\n",
        "        \n",
        "df[\"RcaNotes\"]=pd.Series(commitNotes)\n",
        "df[\"Top10AVGRpsMeanDiff\"]=df[\"Top10AVGRpsMean\"].copy().diff()\n",
        "df.drop(columns=[('Top10AVGRps', 'mean'), ('RunTime', 'min'), ('Commit', '')], inplace=True)\n",
        "\n",
        "fig = px.scatter(df, \n",
        "               x='RunTimeMin', \n",
        "               y='Top10AVGRpsMean', \n",
        "               title=\"ReadStreamExistsV3 RPS F4vCore Linux (.NET) - Per commit\", \n",
        "               hover_data=['RunTimeMin', 'Top10AVGRpsMean', 'Commit', 'RcaNotes'], \n",
        "               #color='ImpactType',\n",
        "               height=800)\n",
        "    \n",
        "fig.update_traces(mode=\"markers+lines\")\n",
        "fig.show()"
      ]
    },
    {
      "cell_type": "code",
      "execution_count": null,
      "metadata": {
        "collapsed": true,
        "jupyter": {
          "outputs_hidden": false,
          "source_hidden": false
        },
        "nteract": {
          "transient": {
            "deleting": false
          }
        },
        "outputExpanded": false,
        "trusted": true
      },
      "outputs": [],
      "source": [
        "import pandas as pd\n",
        "import matplotlib.pylab as plt\n",
        "\n",
        "tmpCommit=runlogs\n",
        "\n",
        "tmpCommit['RunTime']=pd.to_datetime(tmpCommit['RunTime'], format=\"%Y-%m-%d:%H-%M\")\n",
        "tmpCommit.set_index('Commit', inplace=True)\n",
        "\n",
        "fig, ax = plt.subplots(figsize=(30,10))\n",
        "tmpCommit.groupby(\"Commit\").plot(x='RunTime', y='Top10AVGRps', ax=ax)\n",
        "plt.legend([v[0] for v in tmpCommit.groupby('Commit')])\n",
        "ax.get_legend().remove()"
      ]
    }
  ],
  "metadata": {
    "kernelspec": {
      "displayName": "Python 3",
      "language": "python",
      "name": "python3"
    },
    "nteract": {
      "version": "dataExplorer 1.0"
    }
  },
  "nbformat": 4,
  "nbformat_minor": 4
}